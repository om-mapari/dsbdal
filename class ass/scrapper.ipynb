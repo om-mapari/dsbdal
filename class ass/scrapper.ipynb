{
 "cells": [
  {
   "cell_type": "code",
   "execution_count": 1,
   "id": "c67f8efb",
   "metadata": {},
   "outputs": [
    {
     "name": "stdout",
     "output_type": "stream",
     "text": [
      "Requirement already satisfied: pandas in /home/a3-402-21/jupyter/environment/lib/python3.8/site-packages (1.4.1)\n",
      "Requirement already satisfied: numpy>=1.18.5 in /home/a3-402-21/jupyter/environment/lib/python3.8/site-packages (from pandas) (1.22.3)\n",
      "Requirement already satisfied: python-dateutil>=2.8.1 in /home/a3-402-21/jupyter/environment/lib/python3.8/site-packages (from pandas) (2.8.2)\n",
      "Requirement already satisfied: pytz>=2020.1 in /home/a3-402-21/jupyter/environment/lib/python3.8/site-packages (from pandas) (2021.3)\n",
      "Requirement already satisfied: six>=1.5 in /home/a3-402-21/jupyter/environment/lib/python3.8/site-packages (from python-dateutil>=2.8.1->pandas) (1.16.0)\n",
      "\u001b[33mWARNING: You are using pip version 22.0.3; however, version 22.0.4 is available.\n",
      "You should consider upgrading via the '/home/a3-402-21/jupyter/environment/bin/python -m pip install --upgrade pip' command.\u001b[0m\u001b[33m\n",
      "\u001b[0mNote: you may need to restart the kernel to use updated packages.\n"
     ]
    }
   ],
   "source": [
    "pip install pandas"
   ]
  },
  {
   "cell_type": "code",
   "execution_count": 2,
   "id": "8a17e3da",
   "metadata": {},
   "outputs": [
    {
     "name": "stdout",
     "output_type": "stream",
     "text": [
      "Requirement already satisfied: numpy in /home/a3-402-21/jupyter/environment/lib/python3.8/site-packages (1.22.3)\n",
      "\u001b[33mWARNING: You are using pip version 22.0.3; however, version 22.0.4 is available.\n",
      "You should consider upgrading via the '/home/a3-402-21/jupyter/environment/bin/python -m pip install --upgrade pip' command.\u001b[0m\u001b[33m\n",
      "\u001b[0mNote: you may need to restart the kernel to use updated packages.\n"
     ]
    }
   ],
   "source": [
    "pip install numpy"
   ]
  },
  {
   "cell_type": "code",
   "execution_count": 3,
   "id": "fa7b2903",
   "metadata": {},
   "outputs": [
    {
     "name": "stdout",
     "output_type": "stream",
     "text": [
      "Collecting requests\n",
      "  Downloading requests-2.27.1-py2.py3-none-any.whl (63 kB)\n",
      "\u001b[2K     \u001b[38;2;114;156;31m━━━━━━━━━━━━━━━━━━━━━━━━━━━━━━━━━━━━━━━\u001b[0m \u001b[32m63.1/63.1 KB\u001b[0m \u001b[31m616.0 kB/s\u001b[0m eta \u001b[36m0:00:00\u001b[0m31m2.3 MB/s\u001b[0m eta \u001b[36m0:00:01\u001b[0m\n",
      "\u001b[?25hCollecting idna<4,>=2.5\n",
      "  Downloading idna-3.3-py3-none-any.whl (61 kB)\n",
      "\u001b[2K     \u001b[38;2;114;156;31m━━━━━━━━━━━━━━━━━━━━━━━━━━━━━━━━━━━━━━━\u001b[0m \u001b[32m61.2/61.2 KB\u001b[0m \u001b[31m718.1 kB/s\u001b[0m eta \u001b[36m0:00:00\u001b[0mMB/s\u001b[0m eta \u001b[36m0:00:01\u001b[0m\n",
      "\u001b[?25hCollecting certifi>=2017.4.17\n",
      "  Downloading certifi-2021.10.8-py2.py3-none-any.whl (149 kB)\n",
      "\u001b[2K     \u001b[38;2;114;156;31m━━━━━━━━━━━━━━━━━━━━━━━━━━━━━━━━━━━━━\u001b[0m \u001b[32m149.2/149.2 KB\u001b[0m \u001b[31m996.2 kB/s\u001b[0m eta \u001b[36m0:00:00\u001b[0m MB/s\u001b[0m eta \u001b[36m0:00:01\u001b[0m:01\u001b[0m\n",
      "\u001b[?25hCollecting charset-normalizer~=2.0.0\n",
      "  Downloading charset_normalizer-2.0.12-py3-none-any.whl (39 kB)\n",
      "Collecting urllib3<1.27,>=1.21.1\n",
      "  Downloading urllib3-1.26.9-py2.py3-none-any.whl (138 kB)\n",
      "\u001b[2K     \u001b[38;2;114;156;31m━━━━━━━━━━━━━━━━━━━━━━━━━━━━━━━━━━━━━━━\u001b[0m \u001b[32m139.0/139.0 KB\u001b[0m \u001b[31m1.1 MB/s\u001b[0m eta \u001b[36m0:00:00\u001b[0m MB/s\u001b[0m eta \u001b[36m0:00:01\u001b[0m:01\u001b[0m\n",
      "\u001b[?25hInstalling collected packages: certifi, urllib3, idna, charset-normalizer, requests\n",
      "Successfully installed certifi-2021.10.8 charset-normalizer-2.0.12 idna-3.3 requests-2.27.1 urllib3-1.26.9\n",
      "\u001b[33mWARNING: You are using pip version 22.0.3; however, version 22.0.4 is available.\n",
      "You should consider upgrading via the '/home/a3-402-21/jupyter/environment/bin/python -m pip install --upgrade pip' command.\u001b[0m\u001b[33m\n",
      "\u001b[0mNote: you may need to restart the kernel to use updated packages.\n"
     ]
    }
   ],
   "source": [
    "pip install requests"
   ]
  },
  {
   "cell_type": "code",
   "execution_count": 4,
   "id": "4fef2ebf",
   "metadata": {},
   "outputs": [
    {
     "name": "stdout",
     "output_type": "stream",
     "text": [
      "Collecting beautifulsoup4\n",
      "  Downloading beautifulsoup4-4.10.0-py3-none-any.whl (97 kB)\n",
      "\u001b[2K     \u001b[38;2;114;156;31m━━━━━━━━━━━━━━━━━━━━━━━━━━━━━━━━━━━━━━━━\u001b[0m \u001b[32m97.4/97.4 KB\u001b[0m \u001b[31m1.1 MB/s\u001b[0m eta \u001b[36m0:00:00\u001b[0m[31m2.0 MB/s\u001b[0m eta \u001b[36m0:00:01\u001b[0m\n",
      "\u001b[?25hCollecting soupsieve>1.2\n",
      "  Downloading soupsieve-2.3.1-py3-none-any.whl (37 kB)\n",
      "Installing collected packages: soupsieve, beautifulsoup4\n",
      "Successfully installed beautifulsoup4-4.10.0 soupsieve-2.3.1\n",
      "\u001b[33mWARNING: You are using pip version 22.0.3; however, version 22.0.4 is available.\n",
      "You should consider upgrading via the '/home/a3-402-21/jupyter/environment/bin/python -m pip install --upgrade pip' command.\u001b[0m\u001b[33m\n",
      "\u001b[0mNote: you may need to restart the kernel to use updated packages.\n"
     ]
    }
   ],
   "source": [
    "pip install beautifulsoup4"
   ]
  },
  {
   "cell_type": "code",
   "execution_count": 5,
   "id": "a14ed885",
   "metadata": {},
   "outputs": [],
   "source": [
    "# importing the necessary libraries\n",
    "import pandas as pd\n",
    "import requests\n",
    "from bs4 import BeautifulSoup"
   ]
  },
  {
   "cell_type": "code",
   "execution_count": 6,
   "id": "1f85137e",
   "metadata": {},
   "outputs": [],
   "source": [
    "baseurl = \"https://www.thewhiskyexchange.com\"\n",
    "headers = {'User-Agent': 'Mozilla/5.0 (Windows NT 10.0; Win64; x64) AppleWebKit/537.36 (KHTML, like Gecko) Chrome/89.0.4389.82 Safari/537.36'}"
   ]
  },
  {
   "cell_type": "code",
   "execution_count": 7,
   "id": "a2a9300a",
   "metadata": {
    "scrolled": true
   },
   "outputs": [
    {
     "name": "stdout",
     "output_type": "stream",
     "text": [
      "[<li class=\"product-grid__item\"><a class=\"product-card\" href=\"/p/23928/nikka-coffey-grain-whisky\" onclick=\"_gaq.push(['_trackEvent', 'Products-GridView', 'click', '23928 : Nikka Coffey Grain Whisky'])\" title=\"Nikka Coffey Grain Whisky\"><div class=\"product-card__image-container\"><img alt=\"Nikka Coffey Grain Whisky\" class=\"product-card__image\" height=\"4\" loading=\"lazy\" src=\"https://img.thewhiskyexchange.com/480/japan_nik24.jpg\" width=\"3\"/><div class=\"product-extras product-extras--grid\"><div class=\"product-extras-banner\"><img alt=\"Available with Engraving\" class=\"product-extras-banner__image\" height=\"37\" src=\"/media/rtwe/assets/application/images/widgets/engraving-sm.png\" width=\"198\"/></div></div></div><div class=\"product-card__content\"><p class=\"product-card__name\"> Nikka Coffey Grain Whisky </p><p class=\"product-card__meta\"> 70cl / 45% </p></div><div class=\"product-card__data\"><p class=\"product-card__price\"> £56.95 </p><p class=\"product-card__unit-price\"> (£81.36 per litre) </p></div></a></li>, <li class=\"product-grid__item\"><a class=\"product-card\" href=\"/p/23771/hakushu-distillers-reserve\" onclick=\"_gaq.push(['_trackEvent', 'Products-GridView', 'click', '23771 : Hakushu Distillers Reserve'])\" title=\"Hakushu Distiller's Reserve\"><div class=\"product-card__image-container\"><img alt=\"Hakushu Distiller's Reserve\" class=\"product-card__image\" height=\"4\" loading=\"lazy\" src=\"https://img.thewhiskyexchange.com/480/japan_hak16.jpg\" width=\"3\"/><div class=\"product-extras product-extras--grid\"><div class=\"product-extras-banner\"><img alt=\"Available with Engraving\" class=\"product-extras-banner__image\" height=\"37\" src=\"/media/rtwe/assets/application/images/widgets/engraving-sm.png\" width=\"198\"/></div></div></div><div class=\"product-card__content\"><p class=\"product-card__name\"> Hakushu Distiller's Reserve </p><p class=\"product-card__meta\"> 70cl / 43% </p></div><div class=\"product-card__data\"><p class=\"product-card__price\"> £66.95 </p><p class=\"product-card__unit-price\"> (£95.64 per litre) </p></div></a></li>, <li class=\"product-grid__item\"><a class=\"product-card\" href=\"/p/64380/shizuoka-single-malt-prologue-k-and-prologue-w-2x20cl\" onclick=\"_gaq.push(['_trackEvent', 'Products-GridView', 'click', '64380 : Shizuoka Single Malt Prologue K and Prologue W / 2x20cl'])\" title=\" Shizuoka Single Malt Prologue K and Prologue W 2x20cl\"><div class=\"product-card__image-container\"><img alt=\"Shizuoka Single Malt Prologue K and Prologue W 2x20cl\" class=\"product-card__image\" height=\"4\" loading=\"lazy\" src=\"https://img.thewhiskyexchange.com/480/sets_japan_shi1.jpg\" width=\"3\"/></div><div class=\"product-card__content\"><p class=\"product-card__name\"> Shizuoka Single Malt Prologue K and Prologue W<span class=\"product-card__name-secondary\">2x20cl</span></p><p class=\"product-card__meta\"> 40cl / 55.5% </p></div><div class=\"product-card__data\"><p class=\"product-card__price\"> £199 </p><p class=\"product-card__unit-price\"> (£497.50 per litre) </p></div></a></li>, <li class=\"product-grid__item\"><a class=\"product-card\" href=\"/p/32761/yoichi-single-malt\" onclick=\"_gaq.push(['_trackEvent', 'Products-GridView', 'click', '32761 : Yoichi Single Malt'])\" title=\"Yoichi Single Malt\"><div class=\"product-card__image-container\"><img alt=\"Yoichi Single Malt\" class=\"product-card__image\" height=\"4\" loading=\"lazy\" src=\"https://img.thewhiskyexchange.com/480/japan_yoi22.jpg\" width=\"3\"/></div><div class=\"product-card__content\"><p class=\"product-card__name\"> Yoichi Single Malt </p><p class=\"product-card__meta\"> 70cl / 45% </p></div><div class=\"product-card__data\"><p class=\"product-card__price\"> £75.95 </p><p class=\"product-card__unit-price\"> (£108.50 per litre) </p></div></a></li>, <li class=\"product-grid__item\"><a class=\"product-card\" href=\"/p/36362/suntory-toki\" onclick=\"_gaq.push(['_trackEvent', 'Products-GridView', 'click', '36362 : Suntory Toki'])\" title=\"Suntory Toki\"><div class=\"product-card__image-container\"><img alt=\"Suntory Toki\" class=\"product-card__image\" height=\"4\" loading=\"lazy\" src=\"https://img.thewhiskyexchange.com/480/japan_sun15.jpg\" width=\"3\"/></div><div class=\"product-card__content\"><p class=\"product-card__name\"> Suntory Toki </p><p class=\"product-card__meta\"> 70cl / 43% </p></div><div class=\"product-card__data\"><p class=\"product-card__price\"> £31.95 </p><p class=\"product-card__unit-price\"> (£45.64 per litre) </p></div></a></li>, <li class=\"product-grid__item\"><a class=\"product-card\" href=\"/p/37317/the-chita-whisky\" onclick=\"_gaq.push(['_trackEvent', 'Products-GridView', 'click', '37317 : The Chita Whisky'])\" title=\"The Chita Whisky\"><div class=\"product-card__image-container\"><img alt=\"The Chita Whisky\" class=\"product-card__image\" height=\"4\" loading=\"lazy\" src=\"https://img.thewhiskyexchange.com/480/japan_sun17.jpg\" width=\"3\"/></div><div class=\"product-card__content\"><p class=\"product-card__name\"> The Chita Whisky </p><p class=\"product-card__meta\"> 70cl / 43% </p></div><div class=\"product-card__data\"><p class=\"product-card__price\"> £49.95 </p><p class=\"product-card__unit-price\"> (£71.36 per litre) </p></div></a></li>, <li class=\"product-grid__item\"><a class=\"product-card\" href=\"/p/32762/miyagikyo-single-malt\" onclick=\"_gaq.push(['_trackEvent', 'Products-GridView', 'click', '32762 : Miyagikyo Single Malt'])\" title=\"Miyagikyo Single Malt\"><div class=\"product-card__image-container\"><img alt=\"Miyagikyo Single Malt\" class=\"product-card__image\" height=\"4\" loading=\"lazy\" src=\"https://img.thewhiskyexchange.com/480/japan_miy10.jpg\" width=\"3\"/></div><div class=\"product-card__content\"><p class=\"product-card__name\"> Miyagikyo Single Malt </p><p class=\"product-card__meta\"> 70cl / 45% </p></div><div class=\"product-card__data\"><p class=\"product-card__price\"> £75.95 </p><p class=\"product-card__unit-price\"> (£108.50 per litre) </p></div></a></li>, <li class=\"product-grid__item\"><a class=\"product-card\" href=\"/p/45367/kaiyo-mizunara-oak-cask-strength\" onclick=\"_gaq.push(['_trackEvent', 'Products-GridView', 'click', '45367 : Kaiyo Mizunara Oak Cask Strength'])\" title=\"Kaiyo Mizunara Oak Cask Strength\"><div class=\"product-card__image-container\"><img alt=\"Kaiyo Mizunara Oak Cask Strength\" class=\"product-card__image\" height=\"4\" loading=\"lazy\" src=\"https://img.thewhiskyexchange.com/480/japan_kai2.jpg\" width=\"3\"/></div><div class=\"product-card__content\"><p class=\"product-card__name\"> Kaiyo Mizunara Oak Cask Strength </p><p class=\"product-card__meta\"> 70cl / 53% </p></div><div class=\"product-card__data\"><p class=\"product-card__price\"> £110 </p><p class=\"product-card__unit-price\"> (£157.14 per litre) </p></div></a></li>, <li class=\"product-grid__item\"><a class=\"product-card\" href=\"/p/31531/akashi-single-malt-whisky\" onclick=\"_gaq.push(['_trackEvent', 'Products-GridView', 'click', '31531 : Akashi Single Malt Whisky'])\" title=\"Akashi Single Malt Whisky\"><div class=\"product-card__image-container\"><img alt=\"Akashi Single Malt Whisky\" class=\"product-card__image\" height=\"4\" loading=\"lazy\" src=\"https://img.thewhiskyexchange.com/480/japan_aka2.jpg\" width=\"3\"/></div><div class=\"product-card__content\"><p class=\"product-card__name\"> Akashi Single Malt Whisky </p><p class=\"product-card__meta\"> 50cl / 46% </p></div><div class=\"product-card__data\"><p class=\"product-card__price\"> £73.75 </p><p class=\"product-card__unit-price\"> (£147.50 per litre) </p></div></a></li>, <li class=\"product-grid__item\"><a class=\"product-card\" href=\"/p/10132/hakushu-10-year-old\" onclick=\"_gaq.push(['_trackEvent', 'Products-GridView', 'click', '10132 : Hakushu 10 Year Old'])\" title=\"Hakushu 10 Year Old\"><div class=\"product-card__image-container\"><img alt=\"Hakushu 10 Year Old\" class=\"product-card__image\" height=\"4\" loading=\"lazy\" src=\"https://img.thewhiskyexchange.com/480/japan_hak6.jpg\" width=\"3\"/></div><div class=\"product-card__content\"><p class=\"product-card__name\"> Hakushu 10 Year Old </p><p class=\"product-card__meta\"> 70cl / 40.5% </p></div><div class=\"product-card__data\"><p class=\"product-card__price\"> £375 </p><p class=\"product-card__unit-price\"> (£535.71 per litre) </p></div></a></li>, <li class=\"product-grid__item\"><a class=\"product-card\" href=\"/p/37325/suntory-torys-classic\" onclick=\"_gaq.push(['_trackEvent', 'Products-GridView', 'click', '37325 : Suntory Torys Classic'])\" title=\"Suntory Torys Classic\"><div class=\"product-card__image-container\"><img alt=\"Suntory Torys Classic\" class=\"product-card__image\" height=\"4\" loading=\"lazy\" src=\"https://img.thewhiskyexchange.com/480/japan_sun20.jpg\" width=\"3\"/></div><div class=\"product-card__content\"><p class=\"product-card__name\"> Suntory Torys Classic </p><p class=\"product-card__meta\"> 70cl / 37% </p></div><div class=\"product-card__data\"><p class=\"product-card__price\"> £30.45 </p><p class=\"product-card__unit-price\"> (£43.50 per litre) </p></div></a></li>, <li class=\"product-grid__item\"><a class=\"product-card\" href=\"/p/34461/akashi-5-year-old-sherry-cask-half-litre\" onclick=\"_gaq.push(['_trackEvent', 'Products-GridView', 'click', '34461 : Akashi 5 Year Old / Sherry Cask / Half Litre'])\" title=\" Akashi 5 Year Old Sherry Cask Half Litre\"><div class=\"product-card__image-container\"><img alt=\"Akashi 5 Year Old Sherry Cask Half Litre\" class=\"product-card__image\" height=\"4\" loading=\"lazy\" src=\"https://img.thewhiskyexchange.com/480/japan_aka3.jpg\" width=\"3\"/></div><div class=\"product-card__content\"><p class=\"product-card__name\"> Akashi 5 Year Old<span class=\"product-card__name-secondary\">Sherry Cask Half Litre</span></p><p class=\"product-card__meta\"> 50cl / 50% </p></div><div class=\"product-card__data\"><p class=\"product-card__price\"> £150 </p><p class=\"product-card__unit-price\"> (£300 per litre) </p></div></a></li>, <li class=\"product-grid__item\"><a class=\"product-card\" href=\"/p/2944/yoichi-10-year-old\" onclick=\"_gaq.push(['_trackEvent', 'Products-GridView', 'click', '2944 : Yoichi 10 Year Old'])\" title=\"Yoichi 10 Year Old\"><div class=\"product-card__image-container\"><img alt=\"Yoichi 10 Year Old\" class=\"product-card__image\" height=\"4\" loading=\"lazy\" src=\"https://img.thewhiskyexchange.com/480/japan_yoi1.jpg\" width=\"3\"/></div><div class=\"product-card__content\"><p class=\"product-card__name\"> Yoichi 10 Year Old </p><p class=\"product-card__meta\"> 70cl / 45% </p></div><div class=\"product-card__data\"><p class=\"product-card__price\"> £500 </p><p class=\"product-card__unit-price\"> (£714.29 per litre) </p></div></a></li>, <li class=\"product-grid__item\"><a class=\"product-card\" href=\"/p/2924/miyagikyo-10-year-old\" onclick=\"_gaq.push(['_trackEvent', 'Products-GridView', 'click', '2924 : Miyagikyo 10 Year Old'])\" title=\"Miyagikyo 10 Year Old\"><div class=\"product-card__image-container\"><img alt=\"Miyagikyo 10 Year Old\" class=\"product-card__image\" height=\"4\" loading=\"lazy\" src=\"https://img.thewhiskyexchange.com/480/japan_miy1.jpg\" width=\"3\"/></div><div class=\"product-card__content\"><p class=\"product-card__name\"> Miyagikyo 10 Year Old </p><p class=\"product-card__meta\"> 70cl / 45% </p></div><div class=\"product-card__data\"><p class=\"product-card__price\"> £450 </p><p class=\"product-card__unit-price\"> (£642.86 per litre) </p></div></a></li>, <li class=\"product-grid__item\"><a class=\"product-card\" href=\"/p/52590/kaiyo-peated-mizunara-oak\" onclick=\"_gaq.push(['_trackEvent', 'Products-GridView', 'click', '52590 : Kaiyo Peated Mizunara Oak'])\" title=\"Kaiyo Peated Mizunara Oak\"><div class=\"product-card__image-container\"><img alt=\"Kaiyo Peated Mizunara Oak\" class=\"product-card__image\" height=\"4\" loading=\"lazy\" src=\"https://img.thewhiskyexchange.com/480/japan_kai3.jpg\" width=\"3\"/></div><div class=\"product-card__content\"><p class=\"product-card__name\"> Kaiyo Peated Mizunara Oak </p><p class=\"product-card__meta\"> 70cl / 46% </p></div><div class=\"product-card__data\"><p class=\"product-card__price\"> £99.95 </p><p class=\"product-card__unit-price\"> (£142.79 per litre) </p></div></a></li>, <li class=\"product-grid__item\"><a class=\"product-card\" href=\"/p/63405/the-house-of-suntory-triology-pack-3x20cl\" onclick=\"_gaq.push(['_trackEvent', 'Products-GridView', 'click', '63405 : The House of Suntory Triology Pack / 3x20cl'])\" title=\" The House of Suntory Triology Pack 3x20cl\"><div class=\"product-card__image-container\"><img alt=\"The House of Suntory Triology Pack 3x20cl\" class=\"product-card__image\" height=\"4\" loading=\"lazy\" src=\"https://img.thewhiskyexchange.com/480/sets_sun1.jpg\" width=\"3\"/></div><div class=\"product-card__content\"><p class=\"product-card__name\"> The House of Suntory Triology Pack<span class=\"product-card__name-secondary\">3x20cl</span></p><p class=\"product-card__meta\"> 60cl / 42% </p></div><div class=\"product-card__data\"><p class=\"product-card__price\"> £44.95 </p><p class=\"product-card__unit-price\"> (£74.92 per litre) </p></div></a></li>, <li class=\"product-grid__item\"><a class=\"product-card\" href=\"/p/45366/kaiyo-mizunara-oak\" onclick=\"_gaq.push(['_trackEvent', 'Products-GridView', 'click', '45366 : Kaiyo Mizunara Oak'])\" title=\"Kaiyo Mizunara Oak\"><div class=\"product-card__image-container\"><img alt=\"Kaiyo Mizunara Oak\" class=\"product-card__image\" height=\"4\" loading=\"lazy\" src=\"https://img.thewhiskyexchange.com/480/japan_kai1.jpg\" width=\"3\"/></div><div class=\"product-card__content\"><p class=\"product-card__name\"> Kaiyo Mizunara Oak </p><p class=\"product-card__meta\"> 70cl / 43% </p></div><div class=\"product-card__data\"><p class=\"product-card__price\"> £82.95 </p><p class=\"product-card__unit-price\"> (£118.50 per litre) </p></div></a></li>, <li class=\"product-grid__item\"><a class=\"product-card\" href=\"/p/2926/miyagikyo-15-year-old\" onclick=\"_gaq.push(['_trackEvent', 'Products-GridView', 'click', '2926 : Miyagikyo 15 Year Old'])\" title=\"Miyagikyo 15 Year Old\"><div class=\"product-card__image-container\"><img alt=\"Miyagikyo 15 Year Old\" class=\"product-card__image\" height=\"4\" loading=\"lazy\" src=\"https://img.thewhiskyexchange.com/480/japan_miy3.jpg\" width=\"3\"/></div><div class=\"product-card__content\"><p class=\"product-card__name\"> Miyagikyo 15 Year Old </p><p class=\"product-card__meta\"> 70cl / 40% </p></div><div class=\"product-card__data\"><p class=\"product-card__price\"> £1,000 </p><p class=\"product-card__unit-price\"> (£1,428.57 per litre) </p></div></a></li>, <li class=\"product-grid__item\"><a class=\"product-card\" href=\"/p/64652/nikka-coffey-grain-whisky-show-package-2-sunday-tickets\" onclick=\"_gaq.push(['_trackEvent', 'Products-GridView', 'click', '64652 : Nikka Coffey Grain Whisky Show Package / 2 Sunday Tickets'])\" title=\" Nikka Coffey Grain Whisky Show Package 2 Sunday Tickets\"><div class=\"product-card__image-container\"><img alt=\"Nikka Coffey Grain Whisky Show Package 2 Sunday Tickets\" class=\"product-card__image\" height=\"4\" loading=\"lazy\" src=\"https://img.thewhiskyexchange.com/480/bundle_tws2022_8.jpg\" width=\"3\"/><div class=\"product-extras product-extras--grid\"><div class=\"product-extras-flash product-extras-flash--red\"><p class=\"product-extras-flash__content\"> Offer </p></div></div></div><div class=\"product-card__content\"><p class=\"product-card__name\"> Nikka Coffey Grain Whisky Show Package<span class=\"product-card__name-secondary\">2 Sunday Tickets</span></p><p class=\"product-card__meta\"> 70cl / 43% </p></div><div class=\"product-card__data\"><p class=\"product-card__price\"> £264 </p><p class=\"product-card__unit-price\"> (£377.14 per litre) </p></div></a></li>, <li class=\"product-grid__item\"><a class=\"product-card\" href=\"/p/64651/nikka-coffey-grain-whisky-show-package-1-sunday-ticket\" onclick=\"_gaq.push(['_trackEvent', 'Products-GridView', 'click', '64651 : Nikka Coffey Grain Whisky Show Package / 1 Sunday Ticket'])\" title=\" Nikka Coffey Grain Whisky Show Package 1 Sunday Ticket\"><div class=\"product-card__image-container\"><img alt=\"Nikka Coffey Grain Whisky Show Package 1 Sunday Ticket\" class=\"product-card__image\" height=\"4\" loading=\"lazy\" src=\"https://img.thewhiskyexchange.com/480/bundle_tws2022_7.jpg\" width=\"3\"/><div class=\"product-extras product-extras--grid\"><div class=\"product-extras-flash product-extras-flash--red\"><p class=\"product-extras-flash__content\"> Offer </p></div></div></div><div class=\"product-card__content\"><p class=\"product-card__name\"> Nikka Coffey Grain Whisky Show Package<span class=\"product-card__name-secondary\">1 Sunday Ticket</span></p><p class=\"product-card__meta\"> 70cl / 43% </p></div><div class=\"product-card__data\"><p class=\"product-card__price\"> £165 </p><p class=\"product-card__unit-price\"> (£235.71 per litre) </p></div></a></li>, <li class=\"product-grid__item\"><a class=\"product-card\" href=\"/p/57939/chichibu-2009-10-year-old-artist-international-10th-anniversary\" onclick=\"_gaq.push(['_trackEvent', 'Products-GridView', 'click', '57939 : Chichibu 2009 / 10 Year Old / Artist International 10th Anniversary'])\" title=\" Chichibu 2009 10 Year Old Artist International 10th Anniversary\"><div class=\"product-card__image-container\"><img alt=\"Chichibu 2009 10 Year Old Artist International 10th Anniversary\" class=\"product-card__image\" height=\"4\" loading=\"lazy\" src=\"https://img.thewhiskyexchange.com/480/japan_chi2009v3.jpg\" width=\"3\"/></div><div class=\"product-card__content\"><p class=\"product-card__name\"> Chichibu 2009<span class=\"product-card__name-secondary\">10 Year Old Artist International 10th Anniversary</span></p><p class=\"product-card__meta\"> 70cl / 56.5% </p></div><div class=\"product-card__data\"><p class=\"product-card__price\"> £3,500 </p><p class=\"product-card__unit-price\"> (£5,000 per litre) </p></div></a></li>, <li class=\"product-grid__item\"><a class=\"product-card\" href=\"/p/55785/ichiros-malt-grain-japanese-blended-whisky-2020\" onclick=\"_gaq.push(['_trackEvent', 'Products-GridView', 'click', '55785 : Ichiros Malt &amp; Grain / Japanese Blended Whisky 2020'])\" title=\" Ichiro's Malt &amp; Grain Japanese Blended Whisky 2020\"><div class=\"product-card__image-container\"><img alt=\"Ichiro's Malt &amp; Grain Japanese Blended Whisky 2020\" class=\"product-card__image\" height=\"4\" loading=\"lazy\" src=\"https://img.thewhiskyexchange.com/480/japan_ich24.jpg\" width=\"3\"/></div><div class=\"product-card__content\"><p class=\"product-card__name\"> Ichiro's Malt &amp; Grain<span class=\"product-card__name-secondary\">Japanese Blended Whisky 2020</span></p><p class=\"product-card__meta\"> 70cl / 48.5% </p></div><div class=\"product-card__data\"><p class=\"product-card__price\"> £2,000 </p><p class=\"product-card__unit-price\"> (£2,857.14 per litre) </p></div></a></li>, <li class=\"product-grid__item\"><a class=\"product-card\" href=\"/p/45906/chichibu-2010-cask-1000\" onclick=\"_gaq.push(['_trackEvent', 'Products-GridView', 'click', '45906 : Chichibu 2010 / Cask #1000'])\" title=\" Chichibu 2010 Cask #1000\"><div class=\"product-card__image-container\"><img alt=\"Chichibu 2010 Cask #1000\" class=\"product-card__image\" height=\"4\" loading=\"lazy\" src=\"https://img.thewhiskyexchange.com/480/japan_chi2010.jpg\" width=\"3\"/></div><div class=\"product-card__content\"><p class=\"product-card__name\"> Chichibu 2010<span class=\"product-card__name-secondary\">Cask #1000</span></p><p class=\"product-card__meta\"> 70cl / 62.2% </p></div><div class=\"product-card__data\"><p class=\"product-card__price\"> £3,250 </p><p class=\"product-card__unit-price\"> (£4,642.86 per litre) </p></div></a></li>, <li class=\"product-grid__item\"><a class=\"product-card\" href=\"/p/25880/hanyu-1985-the-joker-monochrome-label\" onclick=\"_gaq.push(['_trackEvent', 'Products-GridView', 'click', '25880 : Hanyu 1985 The Joker / Monochrome Label'])\" title=\" Hanyu 1985 The Joker Monochrome Label\"><div class=\"product-card__image-container\"><img alt=\"Hanyu 1985 The Joker Monochrome Label\" class=\"product-card__image\" height=\"4\" loading=\"lazy\" src=\"https://img.thewhiskyexchange.com/480/japan_han1985.jpg\" width=\"3\"/></div><div class=\"product-card__content\"><p class=\"product-card__name\"> Hanyu 1985 The Joker<span class=\"product-card__name-secondary\">Monochrome Label</span></p><p class=\"product-card__meta\"> 70cl / 54.9% </p></div><div class=\"product-card__data\"><p class=\"product-card__price\"> £60,000 </p><p class=\"product-card__unit-price\"> (£85,714.29 per litre) </p></div></a></li>]\n"
     ]
    }
   ],
   "source": [
    "k = requests.get('https://www.thewhiskyexchange.com/c/35/japanese-whisky').text\n",
    "soup=BeautifulSoup(k,'html.parser')\n",
    "productlist = soup.find_all(\"li\",{\"class\":\"product-grid__item\"})\n",
    "print(productlist)"
   ]
  },
  {
   "cell_type": "code",
   "execution_count": 13,
   "id": "3f561727",
   "metadata": {},
   "outputs": [
    {
     "name": "stdout",
     "output_type": "stream",
     "text": [
      "['https://www.thewhiskyexchange.com/p/23928/nikka-coffey-grain-whisky', 'https://www.thewhiskyexchange.com/p/23771/hakushu-distillers-reserve', 'https://www.thewhiskyexchange.com/p/64380/shizuoka-single-malt-prologue-k-and-prologue-w-2x20cl', 'https://www.thewhiskyexchange.com/p/32761/yoichi-single-malt', 'https://www.thewhiskyexchange.com/p/36362/suntory-toki', 'https://www.thewhiskyexchange.com/p/37317/the-chita-whisky', 'https://www.thewhiskyexchange.com/p/32762/miyagikyo-single-malt', 'https://www.thewhiskyexchange.com/p/45367/kaiyo-mizunara-oak-cask-strength', 'https://www.thewhiskyexchange.com/p/31531/akashi-single-malt-whisky', 'https://www.thewhiskyexchange.com/p/10132/hakushu-10-year-old', 'https://www.thewhiskyexchange.com/p/37325/suntory-torys-classic', 'https://www.thewhiskyexchange.com/p/34461/akashi-5-year-old-sherry-cask-half-litre', 'https://www.thewhiskyexchange.com/p/2944/yoichi-10-year-old', 'https://www.thewhiskyexchange.com/p/2924/miyagikyo-10-year-old', 'https://www.thewhiskyexchange.com/p/52590/kaiyo-peated-mizunara-oak', 'https://www.thewhiskyexchange.com/p/63405/the-house-of-suntory-triology-pack-3x20cl', 'https://www.thewhiskyexchange.com/p/45366/kaiyo-mizunara-oak', 'https://www.thewhiskyexchange.com/p/2926/miyagikyo-15-year-old', 'https://www.thewhiskyexchange.com/p/64652/nikka-coffey-grain-whisky-show-package-2-sunday-tickets', 'https://www.thewhiskyexchange.com/p/64651/nikka-coffey-grain-whisky-show-package-1-sunday-ticket', 'https://www.thewhiskyexchange.com/p/57939/chichibu-2009-10-year-old-artist-international-10th-anniversary', 'https://www.thewhiskyexchange.com/p/55785/ichiros-malt-grain-japanese-blended-whisky-2020', 'https://www.thewhiskyexchange.com/p/45906/chichibu-2010-cask-1000', 'https://www.thewhiskyexchange.com/p/25880/hanyu-1985-the-joker-monochrome-label']\n"
     ]
    }
   ],
   "source": [
    "# Next, get the HTML for the items on this page. \n",
    "# Now, inside each of these lists there is a link to the individual product page. \n",
    "# We will write a script to scrape all those links from the productlist.\n",
    "productlinks = []\n",
    "for product in productlist:\n",
    "        link = product.find(\"a\",{\"class\":\"product-card\"}).get('href')                 \n",
    "        productlinks.append(baseurl + link)\n",
    "print(productlinks)"
   ]
  },
  {
   "cell_type": "code",
   "execution_count": 15,
   "id": "6c54b550",
   "metadata": {},
   "outputs": [],
   "source": [
    "# As we discussed earlier, we have to cover all five pages of the website. \n",
    "# To do so we will introduce a for loop before making the HTTP call. \n",
    "# Since there are 5 pages we will run the loop from 1 to 6. Also, make sure to change the target URL.\n",
    "productlinks = []\n",
    "for x in range(1, 6):\n",
    "    k = requests.get('https://www.thewhiskyexchange.com/c/35/japanese-whisky?pg={}&psize=24&sort=pasc'.format(x)).text\n",
    "    soup = BeautifulSoup(k,'html.parser')\n",
    "    productlist = soup.find_all(\"li\",{\"class\":\"product-grid__item\"})\n",
    "\n",
    "    for product in productlist:\n",
    "        link = product.find(\"a\",{\"class\":\"product-card\"}).get('href')\n",
    "        productlinks.append(baseurl + link)"
   ]
  },
  {
   "cell_type": "code",
   "execution_count": 18,
   "id": "e426c679",
   "metadata": {
    "scrolled": true
   },
   "outputs": [
    {
     "name": "stdout",
     "output_type": "stream",
     "text": [
      "['https://www.thewhiskyexchange.com/p/37325/suntory-torys-classic', 'https://www.thewhiskyexchange.com/p/36362/suntory-toki', 'https://www.thewhiskyexchange.com/p/63405/the-house-of-suntory-triology-pack-3x20cl', 'https://www.thewhiskyexchange.com/p/37317/the-chita-whisky', 'https://www.thewhiskyexchange.com/p/23928/nikka-coffey-grain-whisky', 'https://www.thewhiskyexchange.com/p/23771/hakushu-distillers-reserve', 'https://www.thewhiskyexchange.com/p/31531/akashi-single-malt-whisky', 'https://www.thewhiskyexchange.com/p/32762/miyagikyo-single-malt', 'https://www.thewhiskyexchange.com/p/32761/yoichi-single-malt', 'https://www.thewhiskyexchange.com/p/45366/kaiyo-mizunara-oak', 'https://www.thewhiskyexchange.com/p/52590/kaiyo-peated-mizunara-oak', 'https://www.thewhiskyexchange.com/p/45367/kaiyo-mizunara-oak-cask-strength', 'https://www.thewhiskyexchange.com/p/34461/akashi-5-year-old-sherry-cask-half-litre', 'https://www.thewhiskyexchange.com/p/64651/nikka-coffey-grain-whisky-show-package-1-sunday-ticket', 'https://www.thewhiskyexchange.com/p/64380/shizuoka-single-malt-prologue-k-and-prologue-w-2x20cl', 'https://www.thewhiskyexchange.com/p/64652/nikka-coffey-grain-whisky-show-package-2-sunday-tickets', 'https://www.thewhiskyexchange.com/p/10132/hakushu-10-year-old', 'https://www.thewhiskyexchange.com/p/2924/miyagikyo-10-year-old', 'https://www.thewhiskyexchange.com/p/2944/yoichi-10-year-old', 'https://www.thewhiskyexchange.com/p/2926/miyagikyo-15-year-old', 'https://www.thewhiskyexchange.com/p/55785/ichiros-malt-grain-japanese-blended-whisky-2020', 'https://www.thewhiskyexchange.com/p/45906/chichibu-2010-cask-1000', 'https://www.thewhiskyexchange.com/p/57939/chichibu-2009-10-year-old-artist-international-10th-anniversary', 'https://www.thewhiskyexchange.com/p/21444/karuizawa-1981-sherry-cask-6056', 'https://www.thewhiskyexchange.com/p/25880/hanyu-1985-the-joker-monochrome-label', 'https://www.thewhiskyexchange.com/p/37325/suntory-torys-classic', 'https://www.thewhiskyexchange.com/p/36362/suntory-toki', 'https://www.thewhiskyexchange.com/p/63405/the-house-of-suntory-triology-pack-3x20cl', 'https://www.thewhiskyexchange.com/p/37317/the-chita-whisky', 'https://www.thewhiskyexchange.com/p/23928/nikka-coffey-grain-whisky', 'https://www.thewhiskyexchange.com/p/23771/hakushu-distillers-reserve', 'https://www.thewhiskyexchange.com/p/31531/akashi-single-malt-whisky', 'https://www.thewhiskyexchange.com/p/32762/miyagikyo-single-malt', 'https://www.thewhiskyexchange.com/p/32761/yoichi-single-malt', 'https://www.thewhiskyexchange.com/p/45366/kaiyo-mizunara-oak', 'https://www.thewhiskyexchange.com/p/52590/kaiyo-peated-mizunara-oak', 'https://www.thewhiskyexchange.com/p/45367/kaiyo-mizunara-oak-cask-strength', 'https://www.thewhiskyexchange.com/p/34461/akashi-5-year-old-sherry-cask-half-litre', 'https://www.thewhiskyexchange.com/p/64651/nikka-coffey-grain-whisky-show-package-1-sunday-ticket', 'https://www.thewhiskyexchange.com/p/64380/shizuoka-single-malt-prologue-k-and-prologue-w-2x20cl', 'https://www.thewhiskyexchange.com/p/64652/nikka-coffey-grain-whisky-show-package-2-sunday-tickets', 'https://www.thewhiskyexchange.com/p/10132/hakushu-10-year-old', 'https://www.thewhiskyexchange.com/p/2924/miyagikyo-10-year-old', 'https://www.thewhiskyexchange.com/p/2944/yoichi-10-year-old', 'https://www.thewhiskyexchange.com/p/2926/miyagikyo-15-year-old', 'https://www.thewhiskyexchange.com/p/55785/ichiros-malt-grain-japanese-blended-whisky-2020', 'https://www.thewhiskyexchange.com/p/45906/chichibu-2010-cask-1000', 'https://www.thewhiskyexchange.com/p/57939/chichibu-2009-10-year-old-artist-international-10th-anniversary', 'https://www.thewhiskyexchange.com/p/21444/karuizawa-1981-sherry-cask-6056', 'https://www.thewhiskyexchange.com/p/37325/suntory-torys-classic', 'https://www.thewhiskyexchange.com/p/36362/suntory-toki', 'https://www.thewhiskyexchange.com/p/63405/the-house-of-suntory-triology-pack-3x20cl', 'https://www.thewhiskyexchange.com/p/37317/the-chita-whisky', 'https://www.thewhiskyexchange.com/p/23928/nikka-coffey-grain-whisky', 'https://www.thewhiskyexchange.com/p/23771/hakushu-distillers-reserve', 'https://www.thewhiskyexchange.com/p/31531/akashi-single-malt-whisky', 'https://www.thewhiskyexchange.com/p/32762/miyagikyo-single-malt', 'https://www.thewhiskyexchange.com/p/32761/yoichi-single-malt', 'https://www.thewhiskyexchange.com/p/45366/kaiyo-mizunara-oak', 'https://www.thewhiskyexchange.com/p/52590/kaiyo-peated-mizunara-oak', 'https://www.thewhiskyexchange.com/p/45367/kaiyo-mizunara-oak-cask-strength', 'https://www.thewhiskyexchange.com/p/34461/akashi-5-year-old-sherry-cask-half-litre', 'https://www.thewhiskyexchange.com/p/64651/nikka-coffey-grain-whisky-show-package-1-sunday-ticket', 'https://www.thewhiskyexchange.com/p/64380/shizuoka-single-malt-prologue-k-and-prologue-w-2x20cl', 'https://www.thewhiskyexchange.com/p/64652/nikka-coffey-grain-whisky-show-package-2-sunday-tickets', 'https://www.thewhiskyexchange.com/p/10132/hakushu-10-year-old', 'https://www.thewhiskyexchange.com/p/2924/miyagikyo-10-year-old', 'https://www.thewhiskyexchange.com/p/2944/yoichi-10-year-old', 'https://www.thewhiskyexchange.com/p/2926/miyagikyo-15-year-old', 'https://www.thewhiskyexchange.com/p/55785/ichiros-malt-grain-japanese-blended-whisky-2020', 'https://www.thewhiskyexchange.com/p/45906/chichibu-2010-cask-1000', 'https://www.thewhiskyexchange.com/p/57939/chichibu-2009-10-year-old-artist-international-10th-anniversary', 'https://www.thewhiskyexchange.com/p/21444/karuizawa-1981-sherry-cask-6056', 'https://www.thewhiskyexchange.com/p/37325/suntory-torys-classic', 'https://www.thewhiskyexchange.com/p/36362/suntory-toki', 'https://www.thewhiskyexchange.com/p/63405/the-house-of-suntory-triology-pack-3x20cl', 'https://www.thewhiskyexchange.com/p/37317/the-chita-whisky', 'https://www.thewhiskyexchange.com/p/23928/nikka-coffey-grain-whisky', 'https://www.thewhiskyexchange.com/p/23771/hakushu-distillers-reserve', 'https://www.thewhiskyexchange.com/p/31531/akashi-single-malt-whisky', 'https://www.thewhiskyexchange.com/p/32762/miyagikyo-single-malt', 'https://www.thewhiskyexchange.com/p/32761/yoichi-single-malt', 'https://www.thewhiskyexchange.com/p/45366/kaiyo-mizunara-oak', 'https://www.thewhiskyexchange.com/p/52590/kaiyo-peated-mizunara-oak', 'https://www.thewhiskyexchange.com/p/45367/kaiyo-mizunara-oak-cask-strength', 'https://www.thewhiskyexchange.com/p/34461/akashi-5-year-old-sherry-cask-half-litre', 'https://www.thewhiskyexchange.com/p/64651/nikka-coffey-grain-whisky-show-package-1-sunday-ticket', 'https://www.thewhiskyexchange.com/p/64380/shizuoka-single-malt-prologue-k-and-prologue-w-2x20cl', 'https://www.thewhiskyexchange.com/p/64652/nikka-coffey-grain-whisky-show-package-2-sunday-tickets', 'https://www.thewhiskyexchange.com/p/10132/hakushu-10-year-old', 'https://www.thewhiskyexchange.com/p/2924/miyagikyo-10-year-old', 'https://www.thewhiskyexchange.com/p/2944/yoichi-10-year-old', 'https://www.thewhiskyexchange.com/p/2926/miyagikyo-15-year-old', 'https://www.thewhiskyexchange.com/p/55785/ichiros-malt-grain-japanese-blended-whisky-2020', 'https://www.thewhiskyexchange.com/p/45906/chichibu-2010-cask-1000', 'https://www.thewhiskyexchange.com/p/57939/chichibu-2009-10-year-old-artist-international-10th-anniversary', 'https://www.thewhiskyexchange.com/p/21444/karuizawa-1981-sherry-cask-6056']\n"
     ]
    }
   ],
   "source": [
    "# This will give us all the links available on the website. \n",
    "# Now to confirm, you can print the length of productlinks. We should get 97 links in total.\n",
    "print(productlinks)"
   ]
  },
  {
   "cell_type": "code",
   "execution_count": 21,
   "id": "0c534246",
   "metadata": {},
   "outputs": [],
   "source": [
    "# The Name is under an h1 tag, the about text is under the div tag, \n",
    "# price is under a p tag, and rating is under the span tag. Now, let's extract them.\n",
    "data = []\n",
    "# We have started a for loop to iterate over every individual link of productlinks. \n",
    "# We will make an HTTP GET call to every link and then extract the price, name, rating and about text.\n",
    "for links in productlinks:\n",
    "    f = requests.get(links, headers=headers).text\n",
    "    hun = BeautifulSoup(f, 'html.parser')\n",
    "\n",
    "#     We are using try and except to avoid any errors if any element is not found.\n",
    "#     Use the replace function to remove all the line breaks or unnecessary strings we get along with \n",
    "#     the extracted information.\n",
    "    \n",
    "    try:\n",
    "        price = hun.find(\"p\",{\"class\":\"product-action__price\"}).text.replace('\\n',\"\")\n",
    "    except:\n",
    "        price = None\n",
    "        \n",
    "    try:\n",
    "        about = hun.find(\"div\",{\"class\":\"product-main__description\"}).text.replace('\\n',\"\")\n",
    "    except:\n",
    "        about = None\n",
    "    \n",
    "    try:\n",
    "        rating = hun.find(\"div\",{\"class\":\"review-overview\"}).text.replace('\\n',\"\")\n",
    "    except:\n",
    "        rating=None\n",
    "\n",
    "    try:\n",
    "        name=hun.find(\"h1\",{\"class\":\"product-main__name\"}).text.replace('\\n',\"\")\n",
    "    except:\n",
    "        name=None\n",
    "        \n",
    "#   We have created a dictionary with the name whisky where we will store all the extracted information. \n",
    "#   At the very end we are storing the dictionary inside the list data.\n",
    "    whisky = {\"name\":name, \"price\":price, \"rating\":rating, \"about\":about}\n",
    "    \n",
    "    data.append(whisky)"
   ]
  },
  {
   "cell_type": "code",
   "execution_count": 22,
   "id": "dae31f0e",
   "metadata": {},
   "outputs": [
    {
     "name": "stdout",
     "output_type": "stream",
     "text": [
      "[{'name': 'Suntory Torys Classic', 'price': '£30.45', 'rating': '3.5(2\\xa0Reviews)', 'about': 'Suntory Torys Classic is a light and easy-drinking Japanese spirit. Due to being below 40% abv, this cannot be called a whisky in the EU, but is still made from a blend of malt and grain.'}, {'name': 'Suntory Toki', 'price': '£31.95', 'rating': '4(33\\xa0Reviews)', 'about': \"Toki is a blended whisky from Suntory's three distilleries: Yamazaki, Hakushu and Chita. This is a round and sweet blend with a refreshing citrus character and a spicy finish.'Toki' means 'time' in Japanese. Toki has a different composition to its sister blend, Suntory Hibiki, and its main components are Hakushu single malt and Chita grain whisky.Tasting Notes (1) \"}, {'name': 'The House of Suntory Triology Pack3x20cl', 'price': '£44.95', 'rating': None, 'about': \"Explore the spirits of the House of Suntory with this Suntory Trilogy set. The trilogy includes Haku vodka, Roku gin and Toki whisky, showing off why Suntory is popular for more than just its whisky.Haku Japanese vodka is distilled from Hakumai – 100% pure Japanese white rice – to create ‘Jyunpaku’ – pure and brilliant vodka. Filtered through bamboo charcoal, this spirit has a soft, subtly sweet taste with richer, grain notes.Roku means 'six' in Japanese and refers to the six local, seasonal botanicals which complement eight traditional gin botanicals (juniper berries, coriander, lemon peel, etc) and give this spirit a distinctly Japanese character.Toki is a blended whisky from Suntory's three distilleries: Yamazaki, Hakushu and Chita. This is a round and sweet blend with a refreshing citrus character and a spicy finish.\"}, {'name': 'The Chita Whisky', 'price': '£49.95', 'rating': '4.5(40\\xa0Reviews)', 'about': \"Chita is Suntory's grain distillery. The flagship release is aged in a combination of wine, sherry and bourbon casks. This is a light whisky with subtle notes of mint, honey and wood spice.\"}, {'name': 'Nikka Coffey Grain Whisky', 'price': '£56.95', 'rating': '4.5(51\\xa0Reviews)', 'about': \"A release of grain whisky from Japan's Nikka, produced mainly from corn using one of their continuous Coffey stills. Rather than the rare and limited releases they have done before, this is a larger release to further show off this key component in the Nikka family of whiskies.Tasting Notes (2) \"}, {'name': \"Hakushu Distiller's Reserve\", 'price': '£66.95', 'rating': '4.5(28\\xa0Reviews)', 'about': 'A green and crunchy entry in the Hakushu Range, combining whisky of a wide variety of ages, from across the range of casks used by the distillery to create a gently smoky dram, packed with fruity flavour.Tasting Notes (1) '}, {'name': 'Akashi Single Malt Whisky', 'price': '£73.75', 'rating': '5(1\\xa0Review)', 'about': \"Akashi Single Malt Whisky is made at the White Oak distillery in the Hyogo prefecture. Producing using lightly peated barley and aged in three different types of cask, this is the brand's flagship malt.\"}, {'name': 'Miyagikyo Single Malt', 'price': '£75.95', 'rating': '4.5(9\\xa0Reviews)', 'about': \"Nikka's entry-level whisky from Miyagikyo distillery. Light in body, yet full of flavour, this is an excellent introduction to Japanese whisky. Elegantly fruity with sherry-cask character.Tasting Notes (2) \"}, {'name': 'Yoichi Single Malt', 'price': '£75.95', 'rating': '4.5(9\\xa0Reviews)', 'about': \"Relaunched in 2016, this comes from Nikka's excellent Yoichi distillery. This is a blend of single malts from different years and consequently does not carry an age statement. This is a smoky whisky with a maritime character.Tasting Notes (1) \"}, {'name': 'Kaiyo Mizunara Oak', 'price': '£82.95', 'rating': ' 5(2\\xa0Reviews)', 'about': \"Kaiyo's stock of Mizunara oak casks is its pride and joy. Known to impart a subtle and unusual collection of aromas and flavours to whisky during maturation, it's this wood which is often credited with setting Japanese whisky apart. Kaiyo doubles down on its cask maturation, sending the full casks off to sea for months at a time, allowing the natural motion to ensure constant movement, and thus contact between whisky and wood.\"}, {'name': 'Kaiyo Peated Mizunara Oak', 'price': '£99.95', 'rating': None, 'about': 'A fruity, zesty and softly-smoky Japanese whisky, matured in mizunara oak casks. Aromas of orange peel, jasmine, soft cedar and coastal air fill the nose. The palate offers notes of earthy coffee, green apples, black tea and fresh herbs, with hints of cinnamon pastries and mango that linger in the finish.'}, {'name': 'Kaiyo Mizunara Oak Cask Strength', 'price': '£110', 'rating': '5(3\\xa0Reviews)', 'about': \"This is cask-strength edition of Kaiyo's Mizunara matured whisky. It's a rare beast, as there's not much Mizunara – Japanese oak – and only a tiny amount gets turned into whisky casks. It's worth the effort, as it adds a distinctly Japanese edge to the whisky, layering on incense-laden spiciness. Kaiyo go even further, shipping their casks out to sea for months before bottling to give them a gentle rock on the waves, getting even more flavour out of the wood.\"}, {'name': 'Akashi 5 Year OldSherry Cask Half Litre', 'price': '£150', 'rating': '5(2\\xa0Reviews)', 'about': 'Akashi Single Malt Whisky is made at the White Oak distillery in the Hyogo prefecture. Matured for two years in sherry butts and three years in hogsheads, this is a lightly peated Japanese whisky.'}, {'name': 'Nikka Coffey Grain Whisky Show Package1 Sunday Ticket', 'price': '£165', 'rating': None, 'about': \"A great ticket bundle to get you in the mood for Whisky Show 2022, complete with a bottle of Nikka Coffey Grain whisky, a Nikka tumbler and round ice mould, and a tasting book from The Whisky Exchange. This bundle also includes a Sunday ticket to Whisky Show 2022.A release of grain whisky from Japan's Nikka, produced mainly from corn using one of their continuous Coffey stills. Rather than the rare and limited releases they have done before, this is a larger release to further show off this key component in the Nikka family of whiskies.Please noteThis product is a bundle offer. It will be displayed in the checkout with the special discounted price, and the components shown below as free. Please be aware that there are no extra free items with these bundles.\"}, {'name': 'Shizuoka Single Malt Prologue K and Prologue W2x20cl', 'price': '£199', 'rating': None, 'about': 'A pair of Japanese single malts from Shizuoka Distillery, an up-and-coming distillery that repurposed equipment from the now-closed Karuizawa distillery. Prologue K was made in an ex-Karuizawa still and matured in first-fill bourbon casks, creating notes of white peaches, vanilla, white pepper and fennel seeds throughout the palate. Prologue W was made using a wood-fired still, know as Pot Still W, and matured in ex-bourbon casks, creating notes of honey, apples, apricots, lemon sponge cake and delicate smoke that linger in the finish.'}, {'name': 'Nikka Coffey Grain Whisky Show Package2 Sunday Tickets', 'price': '£264', 'rating': None, 'about': \"A great ticket bundle to get you in the mood for Whisky Show 2022, complete with a bottle of Nikka Coffey grain whisky, a Nikka tumbler and round ice mould, and a tasting book from The Whisky Exchange. This set also includes a pair of Sunday Tickets to Whisky Show 2022.A release of grain whisky from Japan's Nikka, produced mainly from corn using one of their continuous Coffey stills. Rather than the rare and limited releases they have done before, this is a larger release to further show off this key component in the Nikka family of whiskies.Please noteThis product is a bundle offer. It will be displayed in the checkout with the special discounted price, and the components shown below as free. Please be aware that there are no extra free items with these bundles.\"}, {'name': 'Hakushu 10 Year Old', 'price': '£375', 'rating': '5(1\\xa0Review)', 'about': 'A younger expression of Hakushu, this well-mannered 10yo represents one of the gentlest introductions to the elegant, impeccably-constructed qualities of Japanese malt whisky.'}, {'name': 'Miyagikyo 10 Year Old', 'price': '£450', 'rating': None, 'about': 'A soft, clean, sweetly fruity and extremely approachable Japanese malt from the Miyagikyo distillery in Sendai, northern Japan.Tasting Notes (2) '}, {'name': 'Yoichi 10 Year Old', 'price': '£500', 'rating': '4.5(9\\xa0Reviews)', 'about': \"A ten year old, elegantly peaty single malt from Nikka's beautiful Yoichi distillery in Hokkaido, where whisky is made as it used to be in Scotland with small direct-fired stills and matured in the finest wood the company can find. Bottled at 45% for extra oomph. On the face of it, this is expensive for a ten year old whisky, but it's well worth the money in quality terms.Tasting Notes (2) \"}, {'name': 'Miyagikyo 15 Year Old', 'price': '£1,000', 'rating': '4(1\\xa0Review)', 'about': 'A top-quality malt from the Miyagikyo distillery (also sometimes known as Sendai). A previous batch of this managed a hugely impressive 92 points from Jim Murray.'}, {'name': \"Ichiro's Malt & GrainJapanese Blended Whisky 2020\", 'price': '£2,000', 'rating': None, 'about': \"A limited-edition bottling of Ichiro's Malt & Grain Japanese blended whisky from Chichibu, released in 2020, is classic and sweet with notes of fresh mint, sticky toffee pudding and wisps of peat smoke throughout the palate.\"}, {'name': 'Chichibu 2010Cask #1000', 'price': '£3,250', 'rating': None, 'about': 'A limited edition Japanese single malt from Chichibu, distilled in 2010 and matured in a single Mizunara oak hogshead, before being bottled in 2018 for Number One Drinks.'}, {'name': 'Chichibu 200910 Year Old Artist International 10th Anniversary', 'price': '£3,500', 'rating': None, 'about': ''}, {'name': 'Karuizawa 1981Sherry Cask #6056', 'price': '£13,500', 'rating': None, 'about': \"An incredibly intense 1981 vintage bottling from cult closed Japanese distillery Karuizawa. Aged in a sherry cask for more than 30 years, this is another excellent example from this legendary distillery – it might just be the best one that we've bottled.Tasting Notes (1) \"}, {'name': 'Hanyu 1985 The JokerMonochrome Label', 'price': '£60,000', 'rating': None, 'about': 'The last and final release from the Ichiro\\'s Malt Card series bottlings from the closed Hanyu distillery. The Joker \"Monochrome\", perhaps is the rarest and most sought after from this legendary series.'}, {'name': 'Suntory Torys Classic', 'price': '£30.45', 'rating': '3.5(2\\xa0Reviews)', 'about': 'Suntory Torys Classic is a light and easy-drinking Japanese spirit. Due to being below 40% abv, this cannot be called a whisky in the EU, but is still made from a blend of malt and grain.'}, {'name': 'Suntory Toki', 'price': '£31.95', 'rating': '4(33\\xa0Reviews)', 'about': \"Toki is a blended whisky from Suntory's three distilleries: Yamazaki, Hakushu and Chita. This is a round and sweet blend with a refreshing citrus character and a spicy finish.'Toki' means 'time' in Japanese. Toki has a different composition to its sister blend, Suntory Hibiki, and its main components are Hakushu single malt and Chita grain whisky. Tasting Notes (1) \"}, {'name': 'The House of Suntory Triology Pack3x20cl', 'price': '£44.95', 'rating': None, 'about': \"Explore the spirits of the House of Suntory with this Suntory Trilogy set. The trilogy includes Haku vodka, Roku gin and Toki whisky, showing off why Suntory is popular for more than just its whisky.Haku Japanese vodka is distilled from Hakumai – 100% pure Japanese white rice – to create ‘Jyunpaku’ – pure and brilliant vodka. Filtered through bamboo charcoal, this spirit has a soft, subtly sweet taste with richer, grain notes.Roku means 'six' in Japanese and refers to the six local, seasonal botanicals which complement eight traditional gin botanicals (juniper berries, coriander, lemon peel, etc) and give this spirit a distinctly Japanese character.Toki is a blended whisky from Suntory's three distilleries: Yamazaki, Hakushu and Chita. This is a round and sweet blend with a refreshing citrus character and a spicy finish.\"}, {'name': 'The Chita Whisky', 'price': '£49.95', 'rating': '4.5(40\\xa0Reviews)', 'about': \"Chita is Suntory's grain distillery. The flagship release is aged in a combination of wine, sherry and bourbon casks. This is a light whisky with subtle notes of mint, honey and wood spice.\"}, {'name': 'Nikka Coffey Grain Whisky', 'price': '£56.95', 'rating': '4.5(51\\xa0Reviews)', 'about': \"A release of grain whisky from Japan's Nikka, produced mainly from corn using one of their continuous Coffey stills. Rather than the rare and limited releases they have done before, this is a larger release to further show off this key component in the Nikka family of whiskies.Tasting Notes (2) \"}, {'name': \"Hakushu Distiller's Reserve\", 'price': '£66.95', 'rating': '4.5(28\\xa0Reviews)', 'about': 'A green and crunchy entry in the Hakushu Range, combining whisky of a wide variety of ages, from across the range of casks used by the distillery to create a gently smoky dram, packed with fruity flavour.Tasting Notes (1) '}, {'name': 'Akashi Single Malt Whisky', 'price': '£73.75', 'rating': '5(1\\xa0Review)', 'about': \"Akashi Single Malt Whisky is made at the White Oak distillery in the Hyogo prefecture. Producing using lightly peated barley and aged in three different types of cask, this is the brand's flagship malt.\"}, {'name': 'Miyagikyo Single Malt', 'price': '£75.95', 'rating': '4.5(9\\xa0Reviews)', 'about': \"Nikka's entry-level whisky from Miyagikyo distillery. Light in body, yet full of flavour, this is an excellent introduction to Japanese whisky. Elegantly fruity with sherry-cask character.Tasting Notes (2) \"}, {'name': 'Yoichi Single Malt', 'price': '£75.95', 'rating': '4.5(9\\xa0Reviews)', 'about': \"Relaunched in 2016, this comes from Nikka's excellent Yoichi distillery. This is a blend of single malts from different years and consequently does not carry an age statement. This is a smoky whisky with a maritime character.Tasting Notes (1) \"}, {'name': 'Kaiyo Mizunara Oak', 'price': '£82.95', 'rating': '5(2\\xa0Reviews)', 'about': \"Kaiyo's stock of Mizunara oak casks is its pride and joy. Known to impart a subtle and unusual collection of aromas and flavours to whisky during maturation, it's this wood which is often credited with setting Japanese whisky apart. Kaiyo doubles down on its cask maturation, sending the full casks off to sea for months at a time, allowing the natural motion to ensure constant movement, and thus contact between whisky and wood.\"}, {'name': 'Kaiyo Peated Mizunara Oak', 'price': '£99.95', 'rating': None, 'about': 'A fruity, zesty and softly-smoky Japanese whisky, matured in mizunara oak casks. Aromas of orange peel, jasmine, soft cedar and coastal air fill the nose. The palate offers notes of earthy coffee, green apples, black tea and fresh herbs, with hints of cinnamon pastries and mango that linger in the finish.'}, {'name': 'Kaiyo Mizunara Oak Cask Strength', 'price': '£110', 'rating': '5(3\\xa0Reviews)', 'about': \"This is cask-strength edition of Kaiyo's Mizunara matured whisky. It's a rare beast, as there's not much Mizunara – Japanese oak – and only a tiny amount gets turned into whisky casks. It's worth the effort, as it adds a distinctly Japanese edge to the whisky, layering on incense-laden spiciness. Kaiyo go even further, shipping their casks out to sea for months before bottling to give them a gentle rock on the waves, getting even more flavour out of the wood.\"}, {'name': 'Akashi 5 Year OldSherry Cask Half Litre', 'price': '£150', 'rating': '5(2\\xa0Reviews)', 'about': 'Akashi Single Malt Whisky is made at the White Oak distillery in the Hyogo prefecture. Matured for two years in sherry butts and three years in hogsheads, this is a lightly peated Japanese whisky.'}, {'name': 'Nikka Coffey Grain Whisky Show Package1 Sunday Ticket', 'price': '£165', 'rating': None, 'about': \"A great ticket bundle to get you in the mood for Whisky Show 2022, complete with a bottle of Nikka Coffey Grain whisky, a Nikka tumbler and round ice mould, and a tasting book from The Whisky Exchange. This bundle also includes a Sunday ticket to Whisky Show 2022.A release of grain whisky from Japan's Nikka, produced mainly from corn using one of their continuous Coffey stills. Rather than the rare and limited releases they have done before, this is a larger release to further show off this key component in the Nikka family of whiskies.Please noteThis product is a bundle offer. It will be displayed in the checkout with the special discounted price, and the components shown below as free. Please be aware that there are no extra free items with these bundles.\"}, {'name': 'Shizuoka Single Malt Prologue K and Prologue W2x20cl', 'price': '£199', 'rating': None, 'about': 'A pair of Japanese single malts from Shizuoka Distillery, an up-and-coming distillery that repurposed equipment from the now-closed Karuizawa distillery. Prologue K was made in an ex-Karuizawa still and matured in first-fill bourbon casks, creating notes of white peaches, vanilla, white pepper and fennel seeds throughout the palate. Prologue W was made using a wood-fired still, know as Pot Still W, and matured in ex-bourbon casks, creating notes of honey, apples, apricots, lemon sponge cake and delicate smoke that linger in the finish.'}, {'name': 'Nikka Coffey Grain Whisky Show Package2 Sunday Tickets', 'price': '£264', 'rating': None, 'about': \"A great ticket bundle to get you in the mood for Whisky Show 2022, complete with a bottle of Nikka Coffey grain whisky, a Nikka tumbler and round ice mould, and a tasting book from The Whisky Exchange. This set also includes a pair of Sunday Tickets to Whisky Show 2022.A release of grain whisky from Japan's Nikka, produced mainly from corn using one of their continuous Coffey stills. Rather than the rare and limited releases they have done before, this is a larger release to further show off this key component in the Nikka family of whiskies.Please noteThis product is a bundle offer. It will be displayed in the checkout with the special discounted price, and the components shown below as free. Please be aware that there are no extra free items with these bundles.\"}, {'name': 'Hakushu 10 Year Old', 'price': '£375', 'rating': '5(1\\xa0Review)', 'about': 'A younger expression of Hakushu, this well-mannered 10yo represents one of the gentlest introductions to the elegant, impeccably-constructed qualities of Japanese malt whisky.'}, {'name': 'Miyagikyo 10 Year Old', 'price': '£450', 'rating': None, 'about': 'A soft, clean, sweetly fruity and extremely approachable Japanese malt from the Miyagikyo distillery in Sendai, northern Japan.Tasting Notes (2) '}, {'name': 'Yoichi 10 Year Old', 'price': '£500', 'rating': '4.5(9\\xa0Reviews)', 'about': \"A ten year old, elegantly peaty single malt from Nikka's beautiful Yoichi distillery in Hokkaido, where whisky is made as it used to be in Scotland with small direct-fired stills and matured in the finest wood the company can find. Bottled at 45% for extra oomph. On the face of it, this is expensive for a ten year old whisky, but it's well worth the money in quality terms.Tasting Notes (2) \"}, {'name': 'Miyagikyo 15 Year Old', 'price': '£1,000', 'rating': '4(1\\xa0Review)', 'about': 'A top-quality malt from the Miyagikyo distillery (also sometimes known as Sendai). A previous batch of this managed a hugely impressive 92 points from Jim Murray.'}, {'name': \"Ichiro's Malt & GrainJapanese Blended Whisky 2020\", 'price': '£2,000', 'rating': None, 'about': \"A limited-edition bottling of Ichiro's Malt & Grain Japanese blended whisky from Chichibu, released in 2020, is classic and sweet with notes of fresh mint, sticky toffee pudding and wisps of peat smoke throughout the palate.\"}, {'name': 'Chichibu 2010Cask #1000', 'price': '£3,250', 'rating': None, 'about': 'A limited edition Japanese single malt from Chichibu, distilled in 2010 and matured in a single Mizunara oak hogshead, before being bottled in 2018 for Number One Drinks.'}, {'name': 'Chichibu 200910 Year Old Artist International 10th Anniversary', 'price': '£3,500', 'rating': None, 'about': ''}, {'name': 'Karuizawa 1981Sherry Cask #6056', 'price': '£13,500', 'rating': None, 'about': \"An incredibly intense 1981 vintage bottling from cult closed Japanese distillery Karuizawa. Aged in a sherry cask for more than 30 years, this is another excellent example from this legendary distillery – it might just be the best one that we've bottled.Tasting Notes (1) \"}, {'name': 'Suntory Torys Classic', 'price': '£30.45', 'rating': '3.5(2\\xa0Reviews)', 'about': 'Suntory Torys Classic is a light and easy-drinking Japanese spirit. Due to being below 40% abv, this cannot be called a whisky in the EU, but is still made from a blend of malt and grain.'}, {'name': 'Suntory Toki', 'price': '£31.95', 'rating': '4(33\\xa0Reviews)', 'about': \"Toki is a blended whisky from Suntory's three distilleries: Yamazaki, Hakushu and Chita. This is a round and sweet blend with a refreshing citrus character and a spicy finish.'Toki' means 'time' in Japanese. Toki has a different composition to its sister blend, Suntory Hibiki, and its main components are Hakushu single malt and Chita grain whisky.Tasting Notes (1) \"}, {'name': 'The House of Suntory Triology Pack3x20cl', 'price': '£44.95', 'rating': None, 'about': \"Explore the spirits of the House of Suntory with this Suntory Trilogy set. The trilogy includes Haku vodka, Roku gin and Toki whisky, showing off why Suntory is popular for more than just its whisky.Haku Japanese vodka is distilled from Hakumai – 100% pure Japanese white rice – to create ‘Jyunpaku’ – pure and brilliant vodka. Filtered through bamboo charcoal, this spirit has a soft, subtly sweet taste with richer, grain notes.Roku means 'six' in Japanese and refers to the six local, seasonal botanicals which complement eight traditional gin botanicals (juniper berries, coriander, lemon peel, etc) and give this spirit a distinctly Japanese character.Toki is a blended whisky from Suntory's three distilleries: Yamazaki, Hakushu and Chita. This is a round and sweet blend with a refreshing citrus character and a spicy finish. \"}, {'name': 'The Chita Whisky', 'price': '£49.95', 'rating': '4.5(40\\xa0Reviews)', 'about': \"Chita is Suntory's grain distillery. The flagship release is aged in a combination of wine, sherry and bourbon casks. This is a light whisky with subtle notes of mint, honey and wood spice.\"}, {'name': 'Nikka Coffey Grain Whisky', 'price': '£56.95', 'rating': '4.5(51\\xa0Reviews)', 'about': \"A release of grain whisky from Japan's Nikka, produced mainly from corn using one of their continuous Coffey stills. Rather than the rare and limited releases they have done before, this is a larger release to further show off this key component in the Nikka family of whiskies.Tasting Notes (2) \"}, {'name': \"Hakushu Distiller's Reserve\", 'price': '£66.95', 'rating': '4.5(28\\xa0Reviews)', 'about': 'A green and crunchy entry in the Hakushu Range, combining whisky of a wide variety of ages, from across the range of casks used by the distillery to create a gently smoky dram, packed with fruity flavour.Tasting Notes (1) '}, {'name': 'Akashi Single Malt Whisky', 'price': '£73.75', 'rating': '5(1\\xa0Review)', 'about': \"Akashi Single Malt Whisky is made at the White Oak distillery in the Hyogo prefecture. Producing using lightly peated barley and aged in three different types of cask, this is the brand's flagship malt.\"}, {'name': 'Miyagikyo Single Malt', 'price': '£75.95', 'rating': '4.5(9\\xa0Reviews)', 'about': \"Nikka's entry-level whisky from Miyagikyo distillery. Light in body, yet full of flavour, this is an excellent introduction to Japanese whisky. Elegantly fruity with sherry-cask character.Tasting Notes (2) \"}, {'name': 'Yoichi Single Malt', 'price': '£75.95', 'rating': '4.5(9\\xa0Reviews)', 'about': \"Relaunched in 2016, this comes from Nikka's excellent Yoichi distillery. This is a blend of single malts from different years and consequently does not carry an age statement. This is a smoky whisky with a maritime character.Tasting Notes (1) \"}, {'name': 'Kaiyo Mizunara Oak', 'price': '£82.95', 'rating': ' 5(2\\xa0Reviews)', 'about': \"Kaiyo's stock of Mizunara oak casks is its pride and joy. Known to impart a subtle and unusual collection of aromas and flavours to whisky during maturation, it's this wood which is often credited with setting Japanese whisky apart. Kaiyo doubles down on its cask maturation, sending the full casks off to sea for months at a time, allowing the natural motion to ensure constant movement, and thus contact between whisky and wood.\"}, {'name': 'Kaiyo Peated Mizunara Oak', 'price': '£99.95', 'rating': None, 'about': 'A fruity, zesty and softly-smoky Japanese whisky, matured in mizunara oak casks. Aromas of orange peel, jasmine, soft cedar and coastal air fill the nose. The palate offers notes of earthy coffee, green apples, black tea and fresh herbs, with hints of cinnamon pastries and mango that linger in the finish.'}, {'name': 'Kaiyo Mizunara Oak Cask Strength', 'price': '£110', 'rating': '5(3\\xa0Reviews)', 'about': \"This is cask-strength edition of Kaiyo's Mizunara matured whisky. It's a rare beast, as there's not much Mizunara – Japanese oak – and only a tiny amount gets turned into whisky casks. It's worth the effort, as it adds a distinctly Japanese edge to the whisky, layering on incense-laden spiciness. Kaiyo go even further, shipping their casks out to sea for months before bottling to give them a gentle rock on the waves, getting even more flavour out of the wood.\"}, {'name': 'Akashi 5 Year OldSherry Cask Half Litre', 'price': '£150', 'rating': '5(2\\xa0Reviews)', 'about': 'Akashi Single Malt Whisky is made at the White Oak distillery in the Hyogo prefecture. Matured for two years in sherry butts and three years in hogsheads, this is a lightly peated Japanese whisky.'}, {'name': 'Nikka Coffey Grain Whisky Show Package1 Sunday Ticket', 'price': '£165', 'rating': None, 'about': \"A great ticket bundle to get you in the mood for Whisky Show 2022, complete with a bottle of Nikka Coffey Grain whisky, a Nikka tumbler and round ice mould, and a tasting book from The Whisky Exchange. This bundle also includes a Sunday ticket to Whisky Show 2022.A release of grain whisky from Japan's Nikka, produced mainly from corn using one of their continuous Coffey stills. Rather than the rare and limited releases they have done before, this is a larger release to further show off this key component in the Nikka family of whiskies.Please noteThis product is a bundle offer. It will be displayed in the checkout with the special discounted price, and the components shown below as free. Please be aware that there are no extra free items with these bundles.\"}, {'name': 'Shizuoka Single Malt Prologue K and Prologue W2x20cl', 'price': '£199', 'rating': None, 'about': 'A pair of Japanese single malts from Shizuoka Distillery, an up-and-coming distillery that repurposed equipment from the now-closed Karuizawa distillery. Prologue K was made in an ex-Karuizawa still and matured in first-fill bourbon casks, creating notes of white peaches, vanilla, white pepper and fennel seeds throughout the palate. Prologue W was made using a wood-fired still, know as Pot Still W, and matured in ex-bourbon casks, creating notes of honey, apples, apricots, lemon sponge cake and delicate smoke that linger in the finish.'}, {'name': 'Nikka Coffey Grain Whisky Show Package2 Sunday Tickets', 'price': '£264', 'rating': None, 'about': \"A great ticket bundle to get you in the mood for Whisky Show 2022, complete with a bottle of Nikka Coffey grain whisky, a Nikka tumbler and round ice mould, and a tasting book from The Whisky Exchange. This set also includes a pair of Sunday Tickets to Whisky Show 2022.A release of grain whisky from Japan's Nikka, produced mainly from corn using one of their continuous Coffey stills. Rather than the rare and limited releases they have done before, this is a larger release to further show off this key component in the Nikka family of whiskies.Please noteThis product is a bundle offer. It will be displayed in the checkout with the special discounted price, and the components shown below as free. Please be aware that there are no extra free items with these bundles.\"}, {'name': 'Hakushu 10 Year Old', 'price': '£375', 'rating': '5(1\\xa0Review)', 'about': 'A younger expression of Hakushu, this well-mannered 10yo represents one of the gentlest introductions to the elegant, impeccably-constructed qualities of Japanese malt whisky.'}, {'name': 'Miyagikyo 10 Year Old', 'price': '£450', 'rating': None, 'about': 'A soft, clean, sweetly fruity and extremely approachable Japanese malt from the Miyagikyo distillery in Sendai, northern Japan.Tasting Notes (2) '}, {'name': 'Yoichi 10 Year Old', 'price': '£500', 'rating': '4.5(9\\xa0Reviews)', 'about': \"A ten year old, elegantly peaty single malt from Nikka's beautiful Yoichi distillery in Hokkaido, where whisky is made as it used to be in Scotland with small direct-fired stills and matured in the finest wood the company can find. Bottled at 45% for extra oomph. On the face of it, this is expensive for a ten year old whisky, but it's well worth the money in quality terms.Tasting Notes (2) \"}, {'name': 'Miyagikyo 15 Year Old', 'price': '£1,000', 'rating': '4(1\\xa0Review)', 'about': 'A top-quality malt from the Miyagikyo distillery (also sometimes known as Sendai). A previous batch of this managed a hugely impressive 92 points from Jim Murray.'}, {'name': \"Ichiro's Malt & GrainJapanese Blended Whisky 2020\", 'price': '£2,000', 'rating': None, 'about': \"A limited-edition bottling of Ichiro's Malt & Grain Japanese blended whisky from Chichibu, released in 2020, is classic and sweet with notes of fresh mint, sticky toffee pudding and wisps of peat smoke throughout the palate.\"}, {'name': 'Chichibu 2010Cask #1000', 'price': '£3,250', 'rating': None, 'about': 'A limited edition Japanese single malt from Chichibu, distilled in 2010 and matured in a single Mizunara oak hogshead, before being bottled in 2018 for Number One Drinks.'}, {'name': 'Chichibu 200910 Year Old Artist International 10th Anniversary', 'price': '£3,500', 'rating': None, 'about': ''}, {'name': 'Karuizawa 1981Sherry Cask #6056', 'price': '£13,500', 'rating': None, 'about': \"An incredibly intense 1981 vintage bottling from cult closed Japanese distillery Karuizawa. Aged in a sherry cask for more than 30 years, this is another excellent example from this legendary distillery – it might just be the best one that we've bottled.Tasting Notes (1) \"}, {'name': 'Suntory Torys Classic', 'price': '£30.45', 'rating': '3.5(2\\xa0Reviews)', 'about': 'Suntory Torys Classic is a light and easy-drinking Japanese spirit. Due to being below 40% abv, this cannot be called a whisky in the EU, but is still made from a blend of malt and grain.'}, {'name': 'Suntory Toki', 'price': '£31.95', 'rating': '4(33\\xa0Reviews)', 'about': \"Toki is a blended whisky from Suntory's three distilleries: Yamazaki, Hakushu and Chita. This is a round and sweet blend with a refreshing citrus character and a spicy finish.'Toki' means 'time' in Japanese. Toki has a different composition to its sister blend, Suntory Hibiki, and its main components are Hakushu single malt and Chita grain whisky.Tasting Notes (1) \"}, {'name': 'The House of Suntory Triology Pack3x20cl', 'price': '£44.95', 'rating': None, 'about': \"Explore the spirits of the House of Suntory with this Suntory Trilogy set. The trilogy includes Haku vodka, Roku gin and Toki whisky, showing off why Suntory is popular for more than just its whisky.Haku Japanese vodka is distilled from Hakumai – 100% pure Japanese white rice – to create ‘Jyunpaku’ – pure and brilliant vodka. Filtered through bamboo charcoal, this spirit has a soft, subtly sweet taste with richer, grain notes.Roku means 'six' in Japanese and refers to the six local, seasonal botanicals which complement eight traditional gin botanicals (juniper berries, coriander, lemon peel, etc) and give this spirit a distinctly Japanese character.Toki is a blended whisky from Suntory's three distilleries: Yamazaki, Hakushu and Chita. This is a round and sweet blend with a refreshing citrus character and a spicy finish.\"}, {'name': 'The Chita Whisky', 'price': '£49.95', 'rating': ' 4.5(40\\xa0Reviews)', 'about': \"Chita is Suntory's grain distillery. The flagship release is aged in a combination of wine, sherry and bourbon casks. This is a light whisky with subtle notes of mint, honey and wood spice.\"}, {'name': 'Nikka Coffey Grain Whisky', 'price': '£56.95', 'rating': '4.5(51\\xa0Reviews)', 'about': \"A release of grain whisky from Japan's Nikka, produced mainly from corn using one of their continuous Coffey stills. Rather than the rare and limited releases they have done before, this is a larger release to further show off this key component in the Nikka family of whiskies.Tasting Notes (2) \"}, {'name': \"Hakushu Distiller's Reserve\", 'price': '£66.95', 'rating': '4.5(28\\xa0Reviews)', 'about': 'A green and crunchy entry in the Hakushu Range, combining whisky of a wide variety of ages, from across the range of casks used by the distillery to create a gently smoky dram, packed with fruity flavour.Tasting Notes (1) '}, {'name': 'Akashi Single Malt Whisky', 'price': '£73.75', 'rating': ' 5(1\\xa0Review)', 'about': \"Akashi Single Malt Whisky is made at the White Oak distillery in the Hyogo prefecture. Producing using lightly peated barley and aged in three different types of cask, this is the brand's flagship malt.\"}, {'name': 'Miyagikyo Single Malt', 'price': '£75.95', 'rating': '4.5(9\\xa0Reviews)', 'about': \"Nikka's entry-level whisky from Miyagikyo distillery. Light in body, yet full of flavour, this is an excellent introduction to Japanese whisky. Elegantly fruity with sherry-cask character.Tasting Notes (2) \"}, {'name': 'Yoichi Single Malt', 'price': '£75.95', 'rating': '4.5(9\\xa0Reviews)', 'about': \"Relaunched in 2016, this comes from Nikka's excellent Yoichi distillery. This is a blend of single malts from different years and consequently does not carry an age statement. This is a smoky whisky with a maritime character.Tasting Notes (1) \"}, {'name': 'Kaiyo Mizunara Oak', 'price': '£82.95', 'rating': '5(2\\xa0Reviews)', 'about': \"Kaiyo's stock of Mizunara oak casks is its pride and joy. Known to impart a subtle and unusual collection of aromas and flavours to whisky during maturation, it's this wood which is often credited with setting Japanese whisky apart. Kaiyo doubles down on its cask maturation, sending the full casks off to sea for months at a time, allowing the natural motion to ensure constant movement, and thus contact between whisky and wood.\"}, {'name': 'Kaiyo Peated Mizunara Oak', 'price': '£99.95', 'rating': None, 'about': 'A fruity, zesty and softly-smoky Japanese whisky, matured in mizunara oak casks. Aromas of orange peel, jasmine, soft cedar and coastal air fill the nose. The palate offers notes of earthy coffee, green apples, black tea and fresh herbs, with hints of cinnamon pastries and mango that linger in the finish.'}, {'name': 'Kaiyo Mizunara Oak Cask Strength', 'price': '£110', 'rating': '5(3\\xa0Reviews)', 'about': \"This is cask-strength edition of Kaiyo's Mizunara matured whisky. It's a rare beast, as there's not much Mizunara – Japanese oak – and only a tiny amount gets turned into whisky casks. It's worth the effort, as it adds a distinctly Japanese edge to the whisky, layering on incense-laden spiciness. Kaiyo go even further, shipping their casks out to sea for months before bottling to give them a gentle rock on the waves, getting even more flavour out of the wood.\"}, {'name': 'Akashi 5 Year OldSherry Cask Half Litre', 'price': '£150', 'rating': '5(2\\xa0Reviews)', 'about': 'Akashi Single Malt Whisky is made at the White Oak distillery in the Hyogo prefecture. Matured for two years in sherry butts and three years in hogsheads, this is a lightly peated Japanese whisky.'}, {'name': 'Nikka Coffey Grain Whisky Show Package1 Sunday Ticket', 'price': '£165', 'rating': None, 'about': \"A great ticket bundle to get you in the mood for Whisky Show 2022, complete with a bottle of Nikka Coffey Grain whisky, a Nikka tumbler and round ice mould, and a tasting book from The Whisky Exchange. This bundle also includes a Sunday ticket to Whisky Show 2022.A release of grain whisky from Japan's Nikka, produced mainly from corn using one of their continuous Coffey stills. Rather than the rare and limited releases they have done before, this is a larger release to further show off this key component in the Nikka family of whiskies.Please noteThis product is a bundle offer. It will be displayed in the checkout with the special discounted price, and the components shown below as free. Please be aware that there are no extra free items with these bundles.\"}, {'name': 'Shizuoka Single Malt Prologue K and Prologue W2x20cl', 'price': '£199', 'rating': None, 'about': 'A pair of Japanese single malts from Shizuoka Distillery, an up-and-coming distillery that repurposed equipment from the now-closed Karuizawa distillery. Prologue K was made in an ex-Karuizawa still and matured in first-fill bourbon casks, creating notes of white peaches, vanilla, white pepper and fennel seeds throughout the palate. Prologue W was made using a wood-fired still, know as Pot Still W, and matured in ex-bourbon casks, creating notes of honey, apples, apricots, lemon sponge cake and delicate smoke that linger in the finish.'}, {'name': 'Nikka Coffey Grain Whisky Show Package2 Sunday Tickets', 'price': '£264', 'rating': None, 'about': \"A great ticket bundle to get you in the mood for Whisky Show 2022, complete with a bottle of Nikka Coffey grain whisky, a Nikka tumbler and round ice mould, and a tasting book from The Whisky Exchange. This set also includes a pair of Sunday Tickets to Whisky Show 2022.A release of grain whisky from Japan's Nikka, produced mainly from corn using one of their continuous Coffey stills. Rather than the rare and limited releases they have done before, this is a larger release to further show off this key component in the Nikka family of whiskies.Please noteThis product is a bundle offer. It will be displayed in the checkout with the special discounted price, and the components shown below as free. Please be aware that there are no extra free items with these bundles.\"}, {'name': 'Hakushu 10 Year Old', 'price': '£375', 'rating': '5(1\\xa0Review)', 'about': ' A younger expression of Hakushu, this well-mannered 10yo represents one of the gentlest introductions to the elegant, impeccably-constructed qualities of Japanese malt whisky.'}, {'name': 'Miyagikyo 10 Year Old', 'price': '£450', 'rating': None, 'about': 'A soft, clean, sweetly fruity and extremely approachable Japanese malt from the Miyagikyo distillery in Sendai, northern Japan.Tasting Notes (2) '}, {'name': 'Yoichi 10 Year Old', 'price': '£500', 'rating': '4.5(9\\xa0Reviews)', 'about': \"A ten year old, elegantly peaty single malt from Nikka's beautiful Yoichi distillery in Hokkaido, where whisky is made as it used to be in Scotland with small direct-fired stills and matured in the finest wood the company can find. Bottled at 45% for extra oomph. On the face of it, this is expensive for a ten year old whisky, but it's well worth the money in quality terms.Tasting Notes (2) \"}, {'name': 'Miyagikyo 15 Year Old', 'price': '£1,000', 'rating': '4(1\\xa0Review)', 'about': 'A top-quality malt from the Miyagikyo distillery (also sometimes known as Sendai). A previous batch of this managed a hugely impressive 92 points from Jim Murray.'}, {'name': \"Ichiro's Malt & GrainJapanese Blended Whisky 2020\", 'price': '£2,000', 'rating': None, 'about': \"A limited-edition bottling of Ichiro's Malt & Grain Japanese blended whisky from Chichibu, released in 2020, is classic and sweet with notes of fresh mint, sticky toffee pudding and wisps of peat smoke throughout the palate.\"}, {'name': 'Chichibu 2010Cask #1000', 'price': '£3,250', 'rating': None, 'about': 'A limited edition Japanese single malt from Chichibu, distilled in 2010 and matured in a single Mizunara oak hogshead, before being bottled in 2018 for Number One Drinks.'}, {'name': 'Chichibu 200910 Year Old Artist International 10th Anniversary', 'price': '£3,500', 'rating': None, 'about': ''}, {'name': 'Karuizawa 1981Sherry Cask #6056', 'price': '£13,500', 'rating': None, 'about': \"An incredibly intense 1981 vintage bottling from cult closed Japanese distillery Karuizawa. Aged in a sherry cask for more than 30 years, this is another excellent example from this legendary distillery – it might just be the best one that we've bottled.Tasting Notes (1) \"}]\n"
     ]
    }
   ],
   "source": [
    "print(data)"
   ]
  },
  {
   "cell_type": "code",
   "execution_count": 25,
   "id": "c30dff33",
   "metadata": {
    "scrolled": false
   },
   "outputs": [
    {
     "data": {
      "text/html": [
       "<div>\n",
       "<style scoped>\n",
       "    .dataframe tbody tr th:only-of-type {\n",
       "        vertical-align: middle;\n",
       "    }\n",
       "\n",
       "    .dataframe tbody tr th {\n",
       "        vertical-align: top;\n",
       "    }\n",
       "\n",
       "    .dataframe thead th {\n",
       "        text-align: right;\n",
       "    }\n",
       "</style>\n",
       "<table border=\"1\" class=\"dataframe\">\n",
       "  <thead>\n",
       "    <tr style=\"text-align: right;\">\n",
       "      <th></th>\n",
       "      <th>name</th>\n",
       "      <th>price</th>\n",
       "      <th>rating</th>\n",
       "      <th>about</th>\n",
       "    </tr>\n",
       "  </thead>\n",
       "  <tbody>\n",
       "    <tr>\n",
       "      <th>0</th>\n",
       "      <td>Suntory Torys Classic</td>\n",
       "      <td>£30.45</td>\n",
       "      <td>3.5(2 Reviews)</td>\n",
       "      <td>Suntory Torys Classic is a light and easy-drin...</td>\n",
       "    </tr>\n",
       "    <tr>\n",
       "      <th>1</th>\n",
       "      <td>Suntory Toki</td>\n",
       "      <td>£31.95</td>\n",
       "      <td>4(33 Reviews)</td>\n",
       "      <td>Toki is a blended whisky from Suntory's three ...</td>\n",
       "    </tr>\n",
       "    <tr>\n",
       "      <th>2</th>\n",
       "      <td>The House of Suntory Triology Pack3x20cl</td>\n",
       "      <td>£44.95</td>\n",
       "      <td>None</td>\n",
       "      <td>Explore the spirits of the House of Suntory wi...</td>\n",
       "    </tr>\n",
       "    <tr>\n",
       "      <th>3</th>\n",
       "      <td>The Chita Whisky</td>\n",
       "      <td>£49.95</td>\n",
       "      <td>4.5(40 Reviews)</td>\n",
       "      <td>Chita is Suntory's grain distillery. The flags...</td>\n",
       "    </tr>\n",
       "    <tr>\n",
       "      <th>4</th>\n",
       "      <td>Nikka Coffey Grain Whisky</td>\n",
       "      <td>£56.95</td>\n",
       "      <td>4.5(51 Reviews)</td>\n",
       "      <td>A release of grain whisky from Japan's Nikka, ...</td>\n",
       "    </tr>\n",
       "    <tr>\n",
       "      <th>...</th>\n",
       "      <td>...</td>\n",
       "      <td>...</td>\n",
       "      <td>...</td>\n",
       "      <td>...</td>\n",
       "    </tr>\n",
       "    <tr>\n",
       "      <th>92</th>\n",
       "      <td>Miyagikyo 15 Year Old</td>\n",
       "      <td>£1,000</td>\n",
       "      <td>4(1 Review)</td>\n",
       "      <td>A top-quality malt from the Miyagikyo distille...</td>\n",
       "    </tr>\n",
       "    <tr>\n",
       "      <th>93</th>\n",
       "      <td>Ichiro's Malt &amp; GrainJapanese Blended Whisky 2020</td>\n",
       "      <td>£2,000</td>\n",
       "      <td>None</td>\n",
       "      <td>A limited-edition bottling of Ichiro's Malt &amp; ...</td>\n",
       "    </tr>\n",
       "    <tr>\n",
       "      <th>94</th>\n",
       "      <td>Chichibu 2010Cask #1000</td>\n",
       "      <td>£3,250</td>\n",
       "      <td>None</td>\n",
       "      <td>A limited edition Japanese single malt from Ch...</td>\n",
       "    </tr>\n",
       "    <tr>\n",
       "      <th>95</th>\n",
       "      <td>Chichibu 200910 Year Old Artist International ...</td>\n",
       "      <td>£3,500</td>\n",
       "      <td>None</td>\n",
       "      <td></td>\n",
       "    </tr>\n",
       "    <tr>\n",
       "      <th>96</th>\n",
       "      <td>Karuizawa 1981Sherry Cask #6056</td>\n",
       "      <td>£13,500</td>\n",
       "      <td>None</td>\n",
       "      <td>An incredibly intense 1981 vintage bottling fr...</td>\n",
       "    </tr>\n",
       "  </tbody>\n",
       "</table>\n",
       "<p>97 rows × 4 columns</p>\n",
       "</div>"
      ],
      "text/plain": [
       "                                                 name    price  \\\n",
       "0                               Suntory Torys Classic   £30.45   \n",
       "1                                        Suntory Toki   £31.95   \n",
       "2            The House of Suntory Triology Pack3x20cl   £44.95   \n",
       "3                                    The Chita Whisky   £49.95   \n",
       "4                           Nikka Coffey Grain Whisky   £56.95   \n",
       "..                                                ...      ...   \n",
       "92                              Miyagikyo 15 Year Old   £1,000   \n",
       "93  Ichiro's Malt & GrainJapanese Blended Whisky 2020   £2,000   \n",
       "94                            Chichibu 2010Cask #1000   £3,250   \n",
       "95  Chichibu 200910 Year Old Artist International ...   £3,500   \n",
       "96                    Karuizawa 1981Sherry Cask #6056  £13,500   \n",
       "\n",
       "             rating                                              about  \n",
       "0    3.5(2 Reviews)  Suntory Torys Classic is a light and easy-drin...  \n",
       "1     4(33 Reviews)  Toki is a blended whisky from Suntory's three ...  \n",
       "2              None  Explore the spirits of the House of Suntory wi...  \n",
       "3   4.5(40 Reviews)  Chita is Suntory's grain distillery. The flags...  \n",
       "4   4.5(51 Reviews)  A release of grain whisky from Japan's Nikka, ...  \n",
       "..              ...                                                ...  \n",
       "92      4(1 Review)  A top-quality malt from the Miyagikyo distille...  \n",
       "93             None  A limited-edition bottling of Ichiro's Malt & ...  \n",
       "94             None  A limited edition Japanese single malt from Ch...  \n",
       "95             None                                                     \n",
       "96             None  An incredibly intense 1981 vintage bottling fr...  \n",
       "\n",
       "[97 rows x 4 columns]"
      ]
     },
     "execution_count": 25,
     "metadata": {},
     "output_type": "execute_result"
    }
   ],
   "source": [
    "df = pd.DataFrame(data)\n",
    "df"
   ]
  },
  {
   "cell_type": "code",
   "execution_count": null,
   "id": "1d0e6077",
   "metadata": {},
   "outputs": [],
   "source": []
  }
 ],
 "metadata": {
  "kernelspec": {
   "display_name": "Python 3 (ipykernel)",
   "language": "python",
   "name": "python3"
  },
  "language_info": {
   "codemirror_mode": {
    "name": "ipython",
    "version": 3
   },
   "file_extension": ".py",
   "mimetype": "text/x-python",
   "name": "python",
   "nbconvert_exporter": "python",
   "pygments_lexer": "ipython3",
   "version": "3.8.10"
  }
 },
 "nbformat": 4,
 "nbformat_minor": 5
}
